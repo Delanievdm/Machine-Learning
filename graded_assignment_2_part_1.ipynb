{
 "cells": [
  {
   "cell_type": "markdown",
   "metadata": {},
   "source": [
    "# Graded Lab Assignment 2: Evaluate classifiers (10 points)\n",
    " \n",
    "In this assignment you will optimize and compare the perfomance of a parametric (logistic regression) and non-parametric (k-nearest neighbours) classifier on the MNIST dataset.\n",
    "\n",
    "Publish your notebook (ipynb file) to your Machine Learning repository on Github ON TIME. We will check the last commit on the day of the deadline.  \n",
    "\n",
    "### Deadline Friday, November 17, 23:59.\n",
    "\n",
    "This notebook consists of three parts: design, implementation, results & analysis. \n",
    "We provide you with the design of the experiment and you have to implement it and analyse the results.\n",
    "\n",
    "### Criteria used for grading\n",
    "* Explain and analyse all results.\n",
    "* Make your notebook easy to read. When you are finished take your time to review it!\n",
    "* You do not want to repeat the same chunks of code multiply times. If your need to do so, write a function. \n",
    "* The implementation part of this assignment needs careful design before you start coding. You could start by writing pseudocode.\n",
    "* In this exercise the insights are important. Do not hide them somewhere in the comments in the implementation, but put them in the Analysis part\n",
    "* Take care that all the figures and tables are well labeled and numbered so that you can easily refer to them.\n",
    "* A plot should have a title and axes labels.\n",
    "* You may find that not everything is 100% specified in this assignment. That is correct! Like in real life you probably have to make some choices. Motivate your choices.\n"
   ]
  },
  {
   "cell_type": "markdown",
   "metadata": {},
   "source": [
    "### Grading points distribution\n",
    "\n",
    "* Implementation 5 points\n",
    "* Results and analysis 5 points"
   ]
  },
  {
   "cell_type": "markdown",
   "metadata": {},
   "source": [
    "## Design of the experiment"
   ]
  },
  {
   "cell_type": "markdown",
   "metadata": {},
   "source": [
    "You do not have to keep the order of this design and are allowed to alter it if you are confident.\n",
    "* Import all necessary modules. Try to use as much of the available functions as possible. \n",
    "* Use the provided train and test set of MNIST dataset.\n",
    "* Pre-process data eg. normalize/standardize, reformat, etc.           \n",
    "  Do whatever you think is necessary and motivate your choices.\n",
    "* (1) Train logistic regression and k-nn using default settings.\n",
    "* Use 10-fold cross validation for each classifier to optimize the performance for one parameter: \n",
    "    * consult the documentation on how cross validation works in sklearn (important functions:             cross_val_score(), GridSearchCV()).\n",
    "    * Optimize k for k-nn,\n",
    "    * for logistic regression focus on the regularization parameter,\n",
    "* (2) Train logistic regression and k-nn using optimized parameters.\n",
    "* Show performance on the cross-validation set for (1) and (2) for both classifiers: \n",
    "    * report the average cross validation error rates (alternatively, the average accuracies - it's up to you) and standard deviation,\n",
    "    * plot the average cross valildation errors (or accuracies) for different values of the parameter that you tuned. \n",
    "* Compare performance on the test set for two classifiers:\n",
    "    * produce the classification report for both classifiers, consisting of precision, recall, f1-score. Explain and analyse the results.\n",
    "    * print confusion matrix for both classifiers and compare whether they missclassify the same  classes. Explain and analyse the results.\n",
    "* Discuss your results.\n",
    "* BONUS: only continue with this part if you are confident that your implemention is complete \n",
    "    * tune more parameters of logistic regression\n",
    "    * add additional classifiers (NN, Naive Bayes, decision tree), \n",
    "    * analyse additional dataset (ex. Iris dataset)"
   ]
  },
  {
   "cell_type": "markdown",
   "metadata": {},
   "source": [
    "## Implementation of the experiment"
   ]
  },
  {
   "cell_type": "code",
   "execution_count": 22,
   "metadata": {},
   "outputs": [
    {
     "name": "stdout",
     "output_type": "stream",
     "text": [
      "Populating the interactive namespace from numpy and matplotlib\n"
     ]
    }
   ],
   "source": [
    "%pylab inline"
   ]
  },
  {
   "cell_type": "code",
   "execution_count": 127,
   "metadata": {
    "collapsed": true
   },
   "outputs": [],
   "source": [
    "#importing all the necessary modules \n",
    "\n",
    "import numpy as np\n",
    "from sklearn.datasets import load_digits #loading the dataset\n",
    "from sklearn.linear_model import LogisticRegression #logistic regression classifier\n",
    "from sklearn.preprocessing import StandardScaler # to normalize data (NN is very sensitive to this!)\n",
    "from sklearn.model_selection import train_test_split #to split in train and test set\n",
    "from sklearn.model_selection import cross_val_score, GridSearchCV #to tune parameters using cross-validation\n",
    "from sklearn.metrics import classification_report, accuracy_score, confusion_matrix # for reporting\n",
    "from sklearn.neighbors import KNeighborsClassifier #k-nearest neighbor classifier "
   ]
  },
  {
   "cell_type": "code",
   "execution_count": 128,
   "metadata": {
    "collapsed": true
   },
   "outputs": [],
   "source": [
    "from sklearn.datasets import load_digits\n",
    "# load mnist dataset and split in train and test set.\n",
    "digits = load_digits()\n",
    "X_train_mnist = np.reshape(digits.images[:1500],(1500,64))\n",
    "X_test_mnist = np.reshape(digits.images[1500:],(297,64))\n",
    "y_train_mnist = digits.target[:1500]\n",
    "y_test_mnist = digits.target[1500:]"
   ]
  },
  {
   "cell_type": "code",
   "execution_count": 129,
   "metadata": {
    "collapsed": true
   },
   "outputs": [],
   "source": [
    "# Normalizing the data using the scaler \n",
    "scaler = StandardScaler()\n",
    "scaler.fit(X_train_mnist)\n",
    "scaler.fit(X_test_mnist)\n",
    "X_train_mnist_scaled = scaler.transform(X_train_mnist)\n",
    "X_test_mnist_scaled = scaler.transform(X_test_mnist)"
   ]
  },
  {
   "cell_type": "code",
   "execution_count": 130,
   "metadata": {},
   "outputs": [
    {
     "data": {
      "text/plain": [
       "KNeighborsClassifier(algorithm='auto', leaf_size=30, metric='minkowski',\n",
       "           metric_params=None, n_jobs=1, n_neighbors=5, p=2,\n",
       "           weights='uniform')"
      ]
     },
     "execution_count": 130,
     "metadata": {},
     "output_type": "execute_result"
    }
   ],
   "source": [
    "#Training Logistic regression and the KNN Classifier using the default settings \n",
    "logistic_regress = LogisticRegression()\n",
    "knn_classifier = KNeighborsClassifier()\n",
    "logistic_regress.fit(X_train_mnist_scaled, y_train_mnist)\n",
    "knn_classifier.fit(X_train_mnist_scaled, y_train_mnist)"
   ]
  },
  {
   "cell_type": "code",
   "execution_count": 131,
   "metadata": {},
   "outputs": [],
   "source": [
    "# function that calculates the accuracy score and the standard deviation of a classifier and then reports both values\n",
    "def accuracy_score(time, clf, clf_name, x, y):\n",
    "    cv_score = cross_val_score(clf, x, y, cv=10)\n",
    "    print(time + \" optimization, the average accuracy of \" + clf_name + \"is: \", cv_score.mean(), \n",
    "          \", and the standard deviation is:\", np.std(cv_score))\n",
    "    "
   ]
  },
  {
   "cell_type": "code",
   "execution_count": 132,
   "metadata": {},
   "outputs": [
    {
     "name": "stdout",
     "output_type": "stream",
     "text": [
      "Before optimization, the average accuracy of Logistic Regressionis:  0.941446300269 , and the standard deviation is: 0.0205180253743\n",
      "Before optimization, the average accuracy of KNN Classifieris:  0.948266646885 , and the standard deviation is: 0.0303457070823\n"
     ]
    }
   ],
   "source": [
    "#Reports the accuracy score before optimization \n",
    "accuracy_score(\"Before\", logistic_regress, \"Logistic Regression\", X_train_mnist_scaled, y_train_mnist)\n",
    "accuracy_score(\"Before\", knn_classifier, \"KNN Classifier\", X_train_mnist_scaled, y_train_mnist)"
   ]
  },
  {
   "cell_type": "code",
   "execution_count": 133,
   "metadata": {},
   "outputs": [],
   "source": [
    "# optimizing the C for the Logistic regression classifier using GridSearchCV. C is the inverse of the regularization parameter lambda. \n",
    "\n",
    "lambda_dict = {'C': np.linspace(0.01, 40 , 40)}\n",
    "grid_search_lr = GridSearchCV(logistic_regress, param_grid=lambda_dict, cv=10)\n",
    "grid_search_lr.fit(X_train_mnist_scaled, y_train_mnist)\n",
    "best_C = grid_search_lr.best_params_['C']"
   ]
  },
  {
   "cell_type": "code",
   "execution_count": 134,
   "metadata": {},
   "outputs": [],
   "source": [
    "# optimizing the number of neighbors, K, for the KNN classifier using GridSearchCV\n",
    "k_dict = {'n_neighbors': np.arange(1, 20)}\n",
    "grid_search_knn = GridSearchCV(knn_classifier, param_grid=k_dict, cv=10)\n",
    "grid_search_knn.fit(X_train_mnist_scaled, y_train_mnist)\n",
    "best_K = grid_search_knn.best_params_['n_neighbors']"
   ]
  },
  {
   "cell_type": "code",
   "execution_count": 135,
   "metadata": {},
   "outputs": [
    {
     "data": {
      "text/plain": [
       "KNeighborsClassifier(algorithm='auto', leaf_size=30, metric='minkowski',\n",
       "           metric_params=None, n_jobs=1, n_neighbors=1, p=2,\n",
       "           weights='uniform')"
      ]
     },
     "execution_count": 135,
     "metadata": {},
     "output_type": "execute_result"
    }
   ],
   "source": [
    "# training the logistic regresion and KNN Classifier with the optimized values for C and K. \n",
    "log_optimized = LogisticRegression(C=best_C)\n",
    "log_optimized.fit(X_train_mnist_scaled, y_train_mnist)\n",
    "knn_optimized = KNeighborsClassifier(n_neighbors=best_K)\n",
    "knn_optimized.fit(X_train_mnist_scaled, y_train_mnist)"
   ]
  },
  {
   "cell_type": "code",
   "execution_count": 136,
   "metadata": {},
   "outputs": [
    {
     "name": "stdout",
     "output_type": "stream",
     "text": [
      "After optimization, the average accuracy of Logisitc Regression is: 0.944825685048 , and the standard deviation is: 0.0182882154834 and the optimal C value is:  6.16230769231\n",
      "After optimization, the average accuracy of KNN Classifier is: 0.959534823035 , and the standard deviation is: 0.0271404395113 and the optimal K value is:  1\n"
     ]
    }
   ],
   "source": [
    "#Reports the accuracy score and the standard deviation of the classifiers after training with the optimized parameters. Also shows what the best C and K are. \n",
    "log_cv_score_optimized = cross_val_score(log_optimized, X_train_mnist_scaled, y_train_mnist, cv=10)\n",
    "knn_cv_scolre_optimized = cross_val_score(knn_optimized, X_train_mnist_scaled, y_train_mnist, cv=10)\n",
    "print(\"After optimization, the average accuracy of Logisitc Regression is:\", log_cv_score_optimized.mean(), \", and the standard deviation is:\", np.std(log_cv_score_optimized), \"and the optimal C value is: \", best_C)\n",
    "print(\"After optimization, the average accuracy of KNN Classifier is:\", knn_cv_score_optimized.mean(), \", and the standard deviation is:\", np.std(knn_cv_score_optimized), \"and the optimal K value is: \", best_K)"
   ]
  },
  {
   "cell_type": "code",
   "execution_count": 155,
   "metadata": {},
   "outputs": [
    {
     "data": {
      "text/plain": [
       "<matplotlib.text.Text at 0x112e66f28>"
      ]
     },
     "execution_count": 155,
     "metadata": {},
     "output_type": "execute_result"
    },
    {
     "data": {
      "image/png": "[encoded data removed]",
      "text/plain": [
       "<matplotlib.figure.Figure at 0x111252470>"
      ]
     },
     "metadata": {},
     "output_type": "display_data"
    }
   ],
   "source": [
    "# Plots a graph that maps the values of C against the average cross validation accuracies. On the graph you can see what the best C is by looking at the maximum. \n",
    "log_plot = plt.plot(lambda_dict['C'], grid_search_lr.cv_results_['mean_test_score'])\n",
    "plt.xlabel(\"C value\")\n",
    "plt.ylabel(\"Accuracy\")\n",
    "plt.title('C Value vs. Accuracy')"
   ]
  },
  {
   "cell_type": "code",
   "execution_count": 156,
   "metadata": {},
   "outputs": [
    {
     "data": {
      "text/plain": [
       "<matplotlib.text.Text at 0x112f01dd8>"
      ]
     },
     "execution_count": 156,
     "metadata": {},
     "output_type": "execute_result"
    },
    {
     "data": {
      "image/png": "[encoded data removed]",
      "text/plain": [
       "<matplotlib.figure.Figure at 0x112eb6860>"
      ]
     },
     "metadata": {},
     "output_type": "display_data"
    }
   ],
   "source": [
    "# Plots a graph that maps the values of the values of K against the average cross validation accuracies. On the graph you can see what the best K is, by looking at the maximum. \n",
    "knn_plot = plt.plot(k_dict['n_neighbors'], grid_search_knn.cv_results_['mean_test_score'])\n",
    "plt.xlabel(\"K value\")\n",
    "plt.ylabel(\"Accuracy\")\n",
    "plt.title('K Value vs. Accuracy')"
   ]
  },
  {
   "cell_type": "code",
   "execution_count": 86,
   "metadata": {},
   "outputs": [],
   "source": [
    "# Function that makes a classifcation report for a classifier \n",
    "def make_report(clf_name, clf, x_test, y_test):\n",
    "    predictions = clf.predict(x_test)\n",
    "    print(\"Classification report for \" + clf_name + \":\\n\", classification_report(y_test, predictions))"
   ]
  },
  {
   "cell_type": "code",
   "execution_count": 87,
   "metadata": {},
   "outputs": [
    {
     "name": "stdout",
     "output_type": "stream",
     "text": [
      "Classification report for Logistic Regression:\n",
      "              precision    recall  f1-score   support\n",
      "\n",
      "          0       0.96      0.93      0.94        27\n",
      "          1       0.76      0.84      0.80        31\n",
      "          2       1.00      1.00      1.00        27\n",
      "          3       0.86      0.63      0.73        30\n",
      "          4       0.91      0.91      0.91        33\n",
      "          5       0.91      0.97      0.94        30\n",
      "          6       0.97      0.97      0.97        30\n",
      "          7       0.90      0.87      0.88        30\n",
      "          8       0.69      0.89      0.78        28\n",
      "          9       0.89      0.81      0.85        31\n",
      "\n",
      "avg / total       0.88      0.88      0.88       297\n",
      "\n",
      "Classification report for KNN Classifier:\n",
      "              precision    recall  f1-score   support\n",
      "\n",
      "          0       1.00      1.00      1.00        27\n",
      "          1       0.89      1.00      0.94        31\n",
      "          2       1.00      0.89      0.94        27\n",
      "          3       0.93      0.90      0.92        30\n",
      "          4       0.97      0.88      0.92        33\n",
      "          5       0.90      0.93      0.92        30\n",
      "          6       0.88      1.00      0.94        30\n",
      "          7       0.91      1.00      0.95        30\n",
      "          8       1.00      0.82      0.90        28\n",
      "          9       0.87      0.87      0.87        31\n",
      "\n",
      "avg / total       0.93      0.93      0.93       297\n",
      "\n"
     ]
    }
   ],
   "source": [
    "#Makes the classification reports for Logistic Regression and the KNN Classifier\n",
    "lr_predictions = make_report(\"Logistic Regression\", log_optimized, X_test_mnist_scaled, y_test_mnist)\n",
    "knn_predictions = make_report(\"KNN Classifier\", knn_optimized, X_test_mnist_scaled, y_test_mnist)"
   ]
  },
  {
   "cell_type": "markdown",
   "metadata": {},
   "source": [
    "### Explanation and analysis of classification report \n"
   ]
  },
  {
   "cell_type": "markdown",
   "metadata": {},
   "source": [
    "The classification report calculates the precision, recall and F1-score for all the classes. The precision is the the ability of the classifier to not give any false postives, so the higher the precision score, the less false postitives there are. \n",
    "\n",
    "The recall is the ability of the classifier to find all the the positive samples. The F1-score is the weighted average of the precision and recall, where the best value a F1-score can have is 1. "
   ]
  },
  {
   "cell_type": "markdown",
   "metadata": {},
   "source": [
    "Precision = $tp/(tp + fp)$\n",
    "\n",
    "Recall = $tp/(tp + fn)$\n",
    "\n",
    "F1-score = $2 * (precision*recall)/(precision+recall)$"
   ]
  },
  {
   "cell_type": "markdown",
   "metadata": {},
   "source": [
    "From the two classification reports, you can derive that the K-nearest-neighbor classifier performs better than the Logistic regression classifier. The K-nearest-neighbor classifier has a higher average precison, recall and F1-score over all the 10 classes. Also, the accuracy calculated for both before and after optimization is higher for the KNN Classifier. "
   ]
  },
  {
   "cell_type": "markdown",
   "metadata": {},
   "source": [
    "However, I think that it is a bit odd that the KNN Classifier is performing so much better, since the optimal K-value was very low (k=1), which would imply that it might be less accurate and more affected by outliers. "
   ]
  },
  {
   "cell_type": "code",
   "execution_count": 95,
   "metadata": {},
   "outputs": [
    {
     "name": "stdout",
     "output_type": "stream",
     "text": [
      "Confusion matrix for Logistic Regression:\n",
      " [[25  0  0  0  1  0  1  0  0  0]\n",
      " [ 0 26  0  2  0  0  0  0  3  0]\n",
      " [ 0  0 27  0  0  0  0  0  0  0]\n",
      " [ 0  2  0 19  0  3  0  2  4  0]\n",
      " [ 0  0  0  0 30  0  0  0  0  3]\n",
      " [ 0  1  0  0  0 29  0  0  0  0]\n",
      " [ 0  1  0  0  0  0 29  0  0  0]\n",
      " [ 0  0  0  0  1  0  0 26  3  0]\n",
      " [ 0  2  0  0  1  0  0  0 25  0]\n",
      " [ 1  2  0  1  0  0  0  1  1 25]] \n",
      "\n",
      "Confusion matrix for KNN Classifier:\n",
      " [[27  0  0  0  0  0  0  0  0  0]\n",
      " [ 0 31  0  0  0  0  0  0  0  0]\n",
      " [ 0  0 24  0  0  0  3  0  0  0]\n",
      " [ 0  0  0 27  0  1  1  1  0  0]\n",
      " [ 0  0  0  0 29  0  0  1  0  3]\n",
      " [ 0  1  0  0  1 28  0  0  0  0]\n",
      " [ 0  0  0  0  0  0 30  0  0  0]\n",
      " [ 0  0  0  0  0  0  0 30  0  0]\n",
      " [ 0  3  0  1  0  0  0  0 23  1]\n",
      " [ 0  0  0  1  0  2  0  1  0 27]]\n"
     ]
    }
   ],
   "source": [
    "# makes the confusion matrices for Logistic Regression and the KNN Classifier. \n",
    "lr_preds = log_optimized.fit(X_train_mnist_scaled, y_train_mnist).predict(X_test_mnist_scaled)\n",
    "knn_preds = knn_optimized.fit(X_train_mnist_scaled, y_train_mnist).predict(X_test_mnist_scaled)\n",
    "lr_cm = confusion_matrix(y_test_mnist, lr_preds)\n",
    "knn_cm = confusion_matrix(y_test_mnist, knn_preds)\n",
    "print(\"Confusion matrix for Logistic Regression:\\n\", lr_cm, \"\\n\")\n",
    "print(\"Confusion matrix for KNN Classifier:\\n\", knn_cm)"
   ]
  },
  {
   "cell_type": "markdown",
   "metadata": {},
   "source": [
    "### Explanation and analysis of the confusion matrices"
   ]
  },
  {
   "cell_type": "markdown",
   "metadata": {},
   "source": [
    "In a confusion matrix, all the values on the diagonal represent the number of digits for which the prediction was equal to the actual true value. The values that are not on the diagonal are the number of times a digit has been misclassfied by the classifier. So for a confusion matrix $C$, $C_{i,j}$ is equal to the number of instances  known to be in group $i$ but predicted to be in group $j$"
   ]
  },
  {
   "cell_type": "markdown",
   "metadata": {},
   "source": [
    "Also from the confusion matrices you can derive that the KNN Classifier perfoms better, as its confusion matrix has less off-diagonal values than the logistic regession confusion matrix does. Logistic regression misclassified instances in 9 out of the 10 classes, while the KNN classifier misclassified instances in only 7 out of the 10 classes. \n",
    "\n",
    "Class 8 is a class where you can clearly see the difference between the two classifiers. In the classification reports, logistic regression had a 0.69 precision score for class 8, while the precision score for the KNN Classifier was 1.00. This is also visisble in the confusion matrix. In the matrix you can see that logistic regression misclassified 3 class 8 instances as class 1, 4 as class 3, 3 as class 7 and 1 as class 9. While the KNN Classifier had no misclassifications.\n",
    "\n"
   ]
  },
  {
   "cell_type": "markdown",
   "metadata": {},
   "source": [
    "### Discussion of results"
   ]
  },
  {
   "cell_type": "markdown",
   "metadata": {},
   "source": [
    "To come to a final conclusion, it is clear that the optimization of the parameters K and C (1/lambda) proved to be useful in improving the accuracy score of the classifiers, as both accuracy score were higher after optimization. "
   ]
  },
  {
   "cell_type": "markdown",
   "metadata": {},
   "source": [
    "# Bonus"
   ]
  },
  {
   "cell_type": "code",
   "execution_count": 112,
   "metadata": {
    "collapsed": true
   },
   "outputs": [],
   "source": [
    "from sklearn.naive_bayes import GaussianNB # naive bayes classifier\n",
    "from sklearn.neural_network import MLPClassifier # nn-classifier\n",
    "from sklearn.tree import DecisionTreeClassifier # decision tree classifier\n",
    "from sklearn import datasets # necessary for loading the iris dataset"
   ]
  },
  {
   "cell_type": "markdown",
   "metadata": {},
   "source": [
    "###### Tuning more parameters of logistic regression"
   ]
  },
  {
   "cell_type": "code",
   "execution_count": 108,
   "metadata": {},
   "outputs": [
    {
     "name": "stdout",
     "output_type": "stream",
     "text": [
      "The optimal number of iterations is:  100.0\n"
     ]
    }
   ],
   "source": [
    "# Tuning more parameters of logisitic regression\n",
    "maxiter_dict = {'max_iter': np.linspace(100, 1000, 10)}\n",
    "grid_search_iter = GridSearchCV(logistic_regress, param_grid=maxiter_dict, cv=10)\n",
    "grid_search_iter.fit(X_train_mnist_scaled, y_train_mnist)\n",
    "best_maxiter = grid_search_iter.best_params_['max_iter']\n",
    "print(\"The optimal number of iterations is: \", best_maxiter)"
   ]
  },
  {
   "cell_type": "markdown",
   "metadata": {},
   "source": [
    "##### Adding additional classifiers (NN, Naive Bayes, decision tree)"
   ]
  },
  {
   "cell_type": "code",
   "execution_count": 97,
   "metadata": {},
   "outputs": [
    {
     "name": "stdout",
     "output_type": "stream",
     "text": [
      "Classification report for Naive Bayes Classifier:\n",
      "              precision    recall  f1-score   support\n",
      "\n",
      "          0       0.96      0.96      0.96        27\n",
      "          1       0.68      0.87      0.76        31\n",
      "          2       0.95      0.70      0.81        27\n",
      "          3       1.00      0.47      0.64        30\n",
      "          4       0.96      0.82      0.89        33\n",
      "          5       0.78      0.97      0.87        30\n",
      "          6       0.97      0.97      0.97        30\n",
      "          7       0.60      0.87      0.71        30\n",
      "          8       0.53      0.68      0.59        28\n",
      "          9       0.91      0.65      0.75        31\n",
      "\n",
      "avg / total       0.84      0.79      0.79       297\n",
      "\n"
     ]
    }
   ],
   "source": [
    "# Training the Naive Bayes Classifier and making the classification report\n",
    "naive_bayes = GaussianNB()\n",
    "naive_bayes.fit(X_train_mnist_scaled, y_train_mnist)\n",
    "make_report(\"Naive Bayes Classifier\", naive_bayes, X_test_mnist_scaled, y_test_mnist)\n"
   ]
  },
  {
   "cell_type": "code",
   "execution_count": 101,
   "metadata": {},
   "outputs": [
    {
     "name": "stdout",
     "output_type": "stream",
     "text": [
      "Classification report for NN Classifier:\n",
      "              precision    recall  f1-score   support\n",
      "\n",
      "          0       1.00      0.93      0.96        27\n",
      "          1       0.94      1.00      0.97        31\n",
      "          2       0.96      0.93      0.94        27\n",
      "          3       0.91      0.67      0.77        30\n",
      "          4       0.97      0.91      0.94        33\n",
      "          5       0.88      1.00      0.94        30\n",
      "          6       0.97      0.97      0.97        30\n",
      "          7       0.90      0.93      0.92        30\n",
      "          8       0.82      0.96      0.89        28\n",
      "          9       0.88      0.90      0.89        31\n",
      "\n",
      "avg / total       0.92      0.92      0.92       297\n",
      "\n"
     ]
    }
   ],
   "source": [
    "nn_classifier = MLPClassifier()\n",
    "nn_classifier.fit(X_train_mnist_scaled, y_train_mnist)\n",
    "make_report(\"NN Classifier\", nn_classifier, X_test_mnist_scaled, y_test_mnist)"
   ]
  },
  {
   "cell_type": "code",
   "execution_count": 103,
   "metadata": {},
   "outputs": [
    {
     "name": "stdout",
     "output_type": "stream",
     "text": [
      "Classification report for Decision Tree Classifier:\n",
      "              precision    recall  f1-score   support\n",
      "\n",
      "          0       0.93      0.96      0.95        27\n",
      "          1       0.72      0.58      0.64        31\n",
      "          2       0.79      0.70      0.75        27\n",
      "          3       0.67      0.47      0.55        30\n",
      "          4       0.78      0.88      0.83        33\n",
      "          5       0.82      0.90      0.86        30\n",
      "          6       0.89      0.83      0.86        30\n",
      "          7       0.67      0.87      0.75        30\n",
      "          8       0.51      0.64      0.57        28\n",
      "          9       0.78      0.68      0.72        31\n",
      "\n",
      "avg / total       0.76      0.75      0.75       297\n",
      "\n"
     ]
    }
   ],
   "source": [
    "decision_tree = DecisionTreeClassifier()\n",
    "decision_tree.fit(X_train_mnist_scaled, y_train_mnist)\n",
    "make_report(\"Decision Tree Classifier\", decision_tree, X_test_mnist_scaled, y_test_mnist)"
   ]
  },
  {
   "cell_type": "markdown",
   "metadata": {},
   "source": [
    "##### Analysing an additional dataset"
   ]
  },
  {
   "cell_type": "code",
   "execution_count": 153,
   "metadata": {},
   "outputs": [],
   "source": [
    "iris = datasets.load_iris() #loading the iris dataset \n",
    "X = iris.data #features\n",
    "Y = iris.target #targets\n",
    "\n",
    "# normalizing the data using the scaler\n",
    "scaler.fit(X) \n",
    "X_scaled = scaler.transform(X)\n",
    "X_train_iris_scaled, X_test_iris_scaled, Y_train_iris, Y_test_iris = train_test_split(X_scaled, Y, test_size=0.30)"
   ]
  },
  {
   "cell_type": "code",
   "execution_count": null,
   "metadata": {
    "collapsed": true
   },
   "outputs": [],
   "source": []
  },
  {
   "cell_type": "code",
   "execution_count": 138,
   "metadata": {},
   "outputs": [
    {
     "data": {
      "text/plain": [
       "KNeighborsClassifier(algorithm='auto', leaf_size=30, metric='minkowski',\n",
       "           metric_params=None, n_jobs=1, n_neighbors=5, p=2,\n",
       "           weights='uniform')"
      ]
     },
     "execution_count": 138,
     "metadata": {},
     "output_type": "execute_result"
    }
   ],
   "source": [
    "#Training Logistic regression and the KNN Classifier using the default settings, on the iris dataset \n",
    "logistic_regress_iris = LogisticRegression()\n",
    "knn_classifier_iris = KNeighborsClassifier()\n",
    "logistic_regress_iris.fit(X_train_iris_scaled, Y_train_iris)\n",
    "knn_classifier_iris.fit(X_train_iris_scaled, Y_train_iris)"
   ]
  },
  {
   "cell_type": "code",
   "execution_count": 143,
   "metadata": {},
   "outputs": [
    {
     "name": "stdout",
     "output_type": "stream",
     "text": [
      "the logistic regression accuracy score before optimization is:  0.917525252525\n",
      "the KNN Classifier accuracy score before optimization is:  0.963484848485\n"
     ]
    }
   ],
   "source": [
    "#Reports the accuracy score before optimization\n",
    "print(\"the logistic regression accuracy score before optimization is: \", np.mean(cross_val_score(logistic_regress_iris, X_train_iris_scaled, Y_train_iris, cv=10)))\n",
    "print(\"the KNN Classifier accuracy score before optimization is: \", np.mean(cross_val_score(knn_classifier_iris, X_train_iris_scaled, Y_train_iris, cv=10)))"
   ]
  },
  {
   "cell_type": "code",
   "execution_count": 144,
   "metadata": {},
   "outputs": [],
   "source": [
    "# optimizing the C for the Logistic regression classifier using GridSearchCV. C is the inverse of the regularization parameter lambda. \n",
    "lambda_dict_iris = {'C': np.linspace(0.01, 40 , 40)}\n",
    "grid_search_lr_iris = GridSearchCV(logistic_regress, param_grid=lambda_dict, cv=10)\n",
    "grid_search_lr_iris.fit(X_train_iris_scaled, Y_train_iris)\n",
    "best_C_iris = grid_search_lr_iris.best_params_['C']"
   ]
  },
  {
   "cell_type": "code",
   "execution_count": 145,
   "metadata": {
    "collapsed": true
   },
   "outputs": [],
   "source": [
    "# optimizing the number of neighbors, K, for the KNN classifier using GridSearchCV\n",
    "k_dict_iris = {'n_neighbors': np.arange(1, 20)}\n",
    "grid_search_knn_iris = GridSearchCV(knn_classifier, param_grid=k_dict, cv=10)\n",
    "grid_search_knn_iris.fit(X_train_iris_scaled, Y_train_iris)\n",
    "best_K_iris = grid_search_knn_iris.best_params_['n_neighbors']"
   ]
  },
  {
   "cell_type": "code",
   "execution_count": 146,
   "metadata": {},
   "outputs": [
    {
     "data": {
      "text/plain": [
       "KNeighborsClassifier(algorithm='auto', leaf_size=30, metric='minkowski',\n",
       "           metric_params=None, n_jobs=1, n_neighbors=1, p=2,\n",
       "           weights='uniform')"
      ]
     },
     "execution_count": 146,
     "metadata": {},
     "output_type": "execute_result"
    }
   ],
   "source": [
    "# training the logistic regresion and KNN Classifier with the optimized values for C and K.\n",
    "log_optimized_iris = LogisticRegression(C=best_C)\n",
    "log_optimized_iris.fit(X_train_iris_scaled, Y_train_iris)\n",
    "knn_optimized_iris = KNeighborsClassifier(n_neighbors=best_K)\n",
    "knn_optimized_iris.fit(X_train_iris_scaled, Y_train_iris)"
   ]
  },
  {
   "cell_type": "code",
   "execution_count": 149,
   "metadata": {},
   "outputs": [
    {
     "name": "stdout",
     "output_type": "stream",
     "text": [
      "After optimization, the average accuracy of Logisitc Regression is: 0.945707070707 , and the standard deviation is: 0.0584119894733 and the optimal C value is:  12.3146153846\n",
      "After optimization, the average accuracy of KNN Classifier is: 0.946818181818 , and the standard deviation is: 0.05741784565 and the optimal K value is:  5\n"
     ]
    }
   ],
   "source": [
    "#Reports the accuracy score and the standard deviation of the classifiers after training with the optimized parameters. Also shows what the best C and K are. \n",
    "log_cv_score_optimized_iris = cross_val_score(log_optimized_iris, X_train_iris_scaled, Y_train_iris, cv=10)\n",
    "knn_cv_score_optimized_iris = cross_val_score(knn_optimized_iris, X_train_iris_scaled, Y_train_iris, cv=10)\n",
    "print(\"After optimization, the average accuracy of Logisitc Regression is:\", log_cv_score_optimized_iris.mean(), \", and the standard deviation is:\", np.std(log_cv_score_optimized_iris), \"and the optimal C value is: \", best_C_iris)\n",
    "print(\"After optimization, the average accuracy of KNN Classifier is:\", knn_cv_score_optimized_iris.mean(), \", and the standard deviation is:\", np.std(knn_cv_score_optimized_iris), \"and the optimal K value is: \", best_K_iris)"
   ]
  },
  {
   "cell_type": "code",
   "execution_count": 150,
   "metadata": {},
   "outputs": [
    {
     "data": {
      "text/plain": [
       "<matplotlib.text.Text at 0x111947d68>"
      ]
     },
     "execution_count": 150,
     "metadata": {},
     "output_type": "execute_result"
    },
    {
     "data": {
      "image/png": "[encoded data removed]",
      "text/plain": [
       "<matplotlib.figure.Figure at 0x112d59c18>"
      ]
     },
     "metadata": {},
     "output_type": "display_data"
    }
   ],
   "source": [
    "# Plots a graph that maps the values of C against the average cross validation accuracies. On the graph you can see what the best C is by looking at the maximum. \n",
    "log_plot_iris = plt.plot(lambda_dict_iris['C'], grid_search_lr_iris.cv_results_['mean_test_score'])\n",
    "plt.xlabel(\"C value\")\n",
    "plt.ylabel(\"Accuracy\")"
   ]
  },
  {
   "cell_type": "code",
   "execution_count": 151,
   "metadata": {},
   "outputs": [
    {
     "data": {
      "text/plain": [
       "<matplotlib.text.Text at 0x112d78048>"
      ]
     },
     "execution_count": 151,
     "metadata": {},
     "output_type": "execute_result"
    },
    {
     "data": {
      "image/png": "[encoded data removed]",
      "text/plain": [
       "<matplotlib.figure.Figure at 0x112e2d550>"
      ]
     },
     "metadata": {},
     "output_type": "display_data"
    }
   ],
   "source": [
    "# Plots a graph that maps the values of the values of K against the average cross validation accuracies. On the graph you can see what the best K is, by looking at the maximum. \n",
    "knn_plot_iris = plt.plot(k_dict_iris['n_neighbors'], grid_search_knn_iris.cv_results_['mean_test_score'])\n",
    "plt.xlabel(\"K value\")\n",
    "plt.ylabel(\"Accuracy\")"
   ]
  },
  {
   "cell_type": "code",
   "execution_count": 154,
   "metadata": {},
   "outputs": [
    {
     "name": "stdout",
     "output_type": "stream",
     "text": [
      "Confusion matrix for Logistic Regression:\n",
      " [[16  0  0]\n",
      " [ 0 12  0]\n",
      " [ 0  1 16]] \n",
      "\n",
      "Confusion matrix for KNN Classifier:\n",
      " [[16  0  0]\n",
      " [ 0 12  0]\n",
      " [ 0  1 16]]\n"
     ]
    }
   ],
   "source": [
    "# makes the confusion matrices for Logistic Regression and the KNN Classifier. \n",
    "lr_preds_iris = log_optimized_iris.fit(X_train_iris_scaled, Y_train_iris).predict(X_test_iris_scaled)\n",
    "knn_preds_iris = knn_optimized_iris.fit(X_train_iris_scaled, Y_train_iris).predict(X_test_iris_scaled)\n",
    "lr_cm_iris = confusion_matrix(Y_test_iris, lr_preds_iris)\n",
    "knn_cm_iris = confusion_matrix(Y_test_iris, knn_preds_iris)\n",
    "print(\"Confusion matrix for Logistic Regression:\\n\", lr_cm_iris, \"\\n\")\n",
    "print(\"Confusion matrix for KNN Classifier:\\n\", knn_cm_iris)"
   ]
  },
  {
   "cell_type": "markdown",
   "metadata": {},
   "source": [
    "### Analysis "
   ]
  },
  {
   "cell_type": "markdown",
   "metadata": {},
   "source": [
    "For the iris dataset, the difference in the accuracies of the classifiers after optimization is not as big as for the MNIST dataset. Before optimization, the KNN Classifier performed better than logistic regression, but after optimization both classifiers had similar results. \n",
    "\n",
    "This is also visible in the confusion matrix, where the Logistic Regression and the KNN Classifier had the same (amount of) misclassifications. "
   ]
  }
 ],
 "metadata": {
  "kernelspec": {
   "display_name": "Python 3",
   "language": "python",
   "name": "python3"
  }
 },
 "nbformat": 4,
 "nbformat_minor": 2
}
