{
 "cells": [
  {
   "cell_type": "code",
   "execution_count": 18,
   "metadata": {
    "collapsed": true
   },
   "outputs": [],
   "source": [
    "import numpy as np\n",
    "from sklearn.model_selection import train_test_split\n",
    "from sklearn.preprocessing import StandardScaler\n",
    "from sklearn.linear_model import LogisticRegression\n",
    "from sklearn.model_selection import cross_val_score, GridSearchCV\n",
    "from sklearn.metrics import classification_report, accuracy_score, confusion_matrix\n",
    "import random\n",
    "from sklearn import metrics\n",
    "from astropy.table import Table"
   ]
  },
  {
   "cell_type": "code",
   "execution_count": 2,
   "metadata": {
    "collapsed": true
   },
   "outputs": [],
   "source": [
    "data = np.loadtxt(\"data_banknote_authentication.txt\", delimiter=\",\")\n",
    "np.random.shuffle(data)\n",
    "y = data[:,4]\n",
    "x = data[:,[0,1,2,3]]\n",
    "scaler = StandardScaler()\n",
    "scaler.fit(x)\n",
    "x = scaler.transform(x)\n",
    "x_train, x_test, y_train, y_test = train_test_split(x,y, test_size=0.2)\n",
    "x_train, x_cv, y_train, y_cv = train_test_split(x_train,y_train, test_size=0.25)"
   ]
  },
  {
   "cell_type": "code",
   "execution_count": 5,
   "metadata": {},
   "outputs": [
    {
     "name": "stdout",
     "output_type": "stream",
     "text": [
      "prediction score trainingset: 0.979318734793\n",
      "prediction score cross-validationset: 0.985454545455\n"
     ]
    }
   ],
   "source": [
    "logistic_regress = LogisticRegression()\n",
    "logistic_regress.fit(x_train, y_train)\n",
    "print(\"prediction score trainingset: \" + str(logistic_regress.score(x_train,y_train,sample_weight=None)))\n",
    "print(\"prediction score cross-validationset: \" + str(logistic_regress.score(x_cv,y_cv,sample_weight=None)))"
   ]
  },
  {
   "cell_type": "code",
   "execution_count": 6,
   "metadata": {},
   "outputs": [
    {
     "name": "stdout",
     "output_type": "stream",
     "text": [
      "0.987834549878\n",
      "LogisticRegression(C=11.836616541353385, class_weight=None, dual=False,\n",
      "          fit_intercept=True, intercept_scaling=1, max_iter=10.0,\n",
      "          multi_class='ovr', n_jobs=1, penalty='l2', random_state=None,\n",
      "          solver='liblinear', tol=0.0001, verbose=0, warm_start=False)\n"
     ]
    }
   ],
   "source": [
    "param_grid = {'C': np.linspace(0.01, 40, 400), 'max_iter': np.linspace(10, 1000, 100)}\n",
    "grid_search_lr = GridSearchCV(logistic_regress, param_grid, cv=10)\n",
    "grid_search_lr.fit(x_train, y_train)\n",
    "best_C = grid_search_lr.best_params_['C']\n",
    "best_iter = grid_search_lr.best_params_['max_iter']\n",
    "\n",
    "print(grid_search_lr.best_score_)\n",
    "print(grid_search_lr.best_estimator_)"
   ]
  },
  {
   "cell_type": "code",
   "execution_count": 9,
   "metadata": {},
   "outputs": [
    {
     "name": "stdout",
     "output_type": "stream",
     "text": [
      "predicition score testset: 0.981818181818\n"
     ]
    }
   ],
   "source": [
    "print(\"predicition score testset: \" + str(logistic_regress.score(x_test,y_test,sample_weight=None)))\n",
    "y_predicted = logistic_regress.predict(x_test)"
   ]
  },
  {
   "cell_type": "code",
   "execution_count": 10,
   "metadata": {
    "collapsed": true
   },
   "outputs": [],
   "source": [
    "def make_report(clf_name, clf, x_test, y_test):\n",
    "    predictions = clf.predict(x_test)\n",
    "    print(\"Classification report for \" + clf_name + \":\\n\", classification_report(y_test, predictions))"
   ]
  },
  {
   "cell_type": "code",
   "execution_count": 11,
   "metadata": {},
   "outputs": [
    {
     "ename": "NameError",
     "evalue": "name 'log_optimized' is not defined",
     "output_type": "error",
     "traceback": [
      "\u001b[0;31m---------------------------------------------------------------------------\u001b[0m",
      "\u001b[0;31mNameError\u001b[0m                                 Traceback (most recent call last)",
      "\u001b[0;32m<ipython-input-11-a9f2deaad97a>\u001b[0m in \u001b[0;36m<module>\u001b[0;34m()\u001b[0m\n\u001b[0;32m----> 1\u001b[0;31m \u001b[0mlr_predictions\u001b[0m \u001b[0;34m=\u001b[0m \u001b[0mmake_report\u001b[0m\u001b[0;34m(\u001b[0m\u001b[0;34m\"Logistic Regression\"\u001b[0m\u001b[0;34m,\u001b[0m \u001b[0mlog_optimized\u001b[0m\u001b[0;34m,\u001b[0m \u001b[0mx_test\u001b[0m\u001b[0;34m,\u001b[0m \u001b[0my_test\u001b[0m\u001b[0;34m)\u001b[0m\u001b[0;34m\u001b[0m\u001b[0m\n\u001b[0m\u001b[1;32m      2\u001b[0m \u001b[0mlr_preds\u001b[0m \u001b[0;34m=\u001b[0m \u001b[0mlog_optimized\u001b[0m\u001b[0;34m.\u001b[0m\u001b[0mfit\u001b[0m\u001b[0;34m(\u001b[0m\u001b[0mx_train\u001b[0m\u001b[0;34m,\u001b[0m \u001b[0my_train\u001b[0m\u001b[0;34m)\u001b[0m\u001b[0;34m.\u001b[0m\u001b[0mpredict\u001b[0m\u001b[0;34m(\u001b[0m\u001b[0mx_test\u001b[0m\u001b[0;34m)\u001b[0m\u001b[0;34m\u001b[0m\u001b[0m\n\u001b[1;32m      3\u001b[0m \u001b[0mlr_cm\u001b[0m \u001b[0;34m=\u001b[0m \u001b[0mconfusion_matrix\u001b[0m\u001b[0;34m(\u001b[0m\u001b[0my_test\u001b[0m\u001b[0;34m,\u001b[0m \u001b[0mlr_preds\u001b[0m\u001b[0;34m)\u001b[0m\u001b[0;34m\u001b[0m\u001b[0m\n\u001b[1;32m      4\u001b[0m \u001b[0maccuracy_score\u001b[0m\u001b[0;34m(\u001b[0m\u001b[0my_test\u001b[0m\u001b[0;34m,\u001b[0m \u001b[0mlr_preds\u001b[0m\u001b[0;34m)\u001b[0m\u001b[0;34m\u001b[0m\u001b[0m\n\u001b[1;32m      5\u001b[0m \u001b[0mprint\u001b[0m\u001b[0;34m(\u001b[0m\u001b[0;34m\"Confusion matrix for Logistic Regression:\\n\"\u001b[0m\u001b[0;34m,\u001b[0m \u001b[0mlr_cm\u001b[0m\u001b[0;34m,\u001b[0m \u001b[0;34m\"\\n\"\u001b[0m\u001b[0;34m)\u001b[0m\u001b[0;34m\u001b[0m\u001b[0m\n",
      "\u001b[0;31mNameError\u001b[0m: name 'log_optimized' is not defined"
     ]
    }
   ],
   "source": [
    "lr_predictions = make_report(\"Logistic Regression\", log_optimized, x_test, y_test)\n",
    "lr_preds = log_optimized.fit(x_train, y_train).predict(x_test)\n",
    "lr_cm = confusion_matrix(y_test, lr_preds)\n",
    "accuracy_score(y_test, lr_preds)\n",
    "print(\"Confusion matrix for Logistic Regression:\\n\", lr_cm, \"\\n\")\n"
   ]
  },
  {
   "cell_type": "code",
   "execution_count": 17,
   "metadata": {},
   "outputs": [
    {
     "name": "stdout",
     "output_type": "stream",
     "text": [
      "[[159   4]\n",
      " [  1 111]]\n"
     ]
    }
   ],
   "source": [
    "LRconmatrix = metrics.confusion_matrix(y_test,y_predicted)\n",
    "tn = LRconmatrix[0][0]\n",
    "tp = LRconmatrix[1][1]\n",
    "fn = LRconmatrix[1][0]\n",
    "fp = LRconmatrix[0][1]\n",
    "pred = tp + fn\n",
    "p = tp + fn\n",
    "n = tn + fp\n",
    "N = tn+tp+fn+fp\n",
    "print(LRconmatrix)"
   ]
  },
  {
   "cell_type": "code",
   "execution_count": 19,
   "metadata": {},
   "outputs": [
    {
     "data": {
      "text/html": [
       "&lt;Table length=5&gt;\n",
       "<table id=\"table4628223872\" class=\"table-striped table-bordered table-condensed\">\n",
       "<thead><tr><th>evaluator</th><th>value</th></tr></thead>\n",
       "<thead><tr><th>str9</th><th>float64</th></tr></thead>\n",
       "<tr><td>error</td><td>0.0181818181818</td></tr>\n",
       "<tr><td>accuracy</td><td>0.981818181818</td></tr>\n",
       "<tr><td>tp-rate</td><td>0.991071428571</td></tr>\n",
       "<tr><td>fp-rate</td><td>0.0245398773006</td></tr>\n",
       "<tr><td>precision</td><td>0.991071428571</td></tr>\n",
       "</table>"
      ],
      "text/plain": [
       "<Table length=5>\n",
       "evaluator      value     \n",
       "   str9       float64    \n",
       "--------- ---------------\n",
       "    error 0.0181818181818\n",
       " accuracy  0.981818181818\n",
       "  tp-rate  0.991071428571\n",
       "  fp-rate 0.0245398773006\n",
       "precision  0.991071428571"
      ]
     },
     "execution_count": 19,
     "metadata": {},
     "output_type": "execute_result"
    }
   ],
   "source": [
    "table = Table([[\"error\",\"accuracy\",\"tp-rate\",\"fp-rate\",\"precision\"],\n",
    "           [(fp+fn)/N,(tp+tn)/N,tp/p,fp/n,tp/pred]],names=(\"evaluator\",\"value\"),dtype=None)\n",
    "table"
   ]
  },
  {
   "cell_type": "code",
   "execution_count": null,
   "metadata": {
    "collapsed": true
   },
   "outputs": [],
   "source": []
  }
 ],
 "metadata": {
  "kernelspec": {
   "display_name": "Python 3",
   "language": "python",
   "name": "python3"
  },
  "language_info": {
   "codemirror_mode": {
    "name": "ipython",
    "version": 3
   },
   "file_extension": ".py",
   "mimetype": "text/x-python",
   "name": "python",
   "nbconvert_exporter": "python",
   "pygments_lexer": "ipython3",
   "version": "3.6.1"
  }
 },
 "nbformat": 4,
 "nbformat_minor": 2
}
