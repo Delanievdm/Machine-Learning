{
 "cells": [
  {
   "cell_type": "markdown",
   "metadata": {
    "raw_mimetype": "text/markdown"
   },
   "source": [
    "# Graded Lab Assignment: Logistic Regression (10 points)\n",
    "\n",
    "In this assignment you will classify hand-written digits using logistic regression.\n",
    "\n",
    "The assignment follows Andrew Ng's explanation of Logistic Regression and (re)watching his videos could be useful (Week 3)\n",
    "\n",
    "Publish your notebook (ipynb file) to your Machine Learning repository on Github ON TIME. We will check the last commit on the day of the deadline. \n",
    "\n",
    "### Deadline Tuesday, October 10th, 23:59\n",
    "\n",
    "Do not hand in any other files, the Notebook should contain all your answers.\n",
    "\n",
    "The points for the assignment are distributed as follows:\n",
    "* The implementation\n",
    "    - prediction_function (0.5)\n",
    "    - cost_function (1)\n",
    "    - compute_gradient (1)\n",
    "    - correct double for loop (2)\n",
    "    - correct stop condition (0.5)\n",
    "    - preventing overfitting (1)\n",
    "    - systematically choosing learning rate (1) \n",
    "    - best score analysis (1)\n",
    "    - summary (1)\n",
    "    - comments (0.5)\n",
    "    - code (0.5)\n",
    "    "
   ]
  },
  {
   "cell_type": "code",
   "execution_count": 3,
   "metadata": {},
   "outputs": [
    {
     "name": "stdout",
     "output_type": "stream",
     "text": [
      "Populating the interactive namespace from numpy and matplotlib\n"
     ]
    }
   ],
   "source": [
    "%pylab inline\n",
    "import numpy as np"
   ]
  },
  {
   "cell_type": "markdown",
   "metadata": {},
   "source": [
    "Scikit-learn is a toolkit that has several datasets built in. You first need to install the toolkit: http://scikit-learn.org/stable/install.html\n",
    "\n",
    "The MNIST dataset that you will be using for this assignment contains images of hand-written digits that are only 8 by 8 pixels, which means the algorithm (logistic regression) should run on every computer.\n",
    "\n",
    "The code in the cell below shows how to work with the digits dataset and  how to visualize it. As you can see the numbers are not very clear in 8x8 pixels images, this means we cannot expect our logistic regression will have a very high classification score."
   ]
  },
  {
   "cell_type": "code",
   "execution_count": 4,
   "metadata": {},
   "outputs": [
    {
     "name": "stdout",
     "output_type": "stream",
     "text": [
      "The numbers shown are: \n",
      " [[0 1 2 3 4]\n",
      " [5 6 7 8 9]]\n"
     ]
    },
    {
     "data": {
      "image/png": "[encoded data removed]",
      "text/plain": [
       "<matplotlib.figure.Figure at 0x116a9b5c0>"
      ]
     },
     "metadata": {},
     "output_type": "display_data"
    }
   ],
   "source": [
    "from sklearn.datasets import load_digits\n",
    "\n",
    "digits = load_digits(n_class=10)\n",
    "\n",
    "#Create two rows with numbers\n",
    "firstrow = np.hstack(digits.images[:5,:,:])\n",
    "secondrow = np.hstack(digits.images[5:10,:,:])\n",
    "\n",
    "plt.gray()\n",
    "plt.axis('off')\n",
    "\n",
    "#Show both rows at the same time\n",
    "plt.imshow(np.vstack((firstrow,secondrow)))\n",
    "\n",
    "print(\"The numbers shown are: \\n\", np.vstack((digits.target[:5], digits.target[5:10])))"
   ]
  },
  {
   "cell_type": "markdown",
   "metadata": {},
   "source": [
    "## The implementation\n",
    "\n",
    "You have to implement the next three functions and fill in the body of the loop in order to create a correct implementation of logistic regression. Don't change the definitions of the functions and input parameters.\n",
    "\n",
    "(1) Make sure that you do not overfit by keeping track of the score on the test set and implementing a correct stop condition. \n",
    "(2) Systematically pick a learning rate alpha that makes sure the algorithm learns in a smooth and stable manner (show how you do it). \n",
    "(3) Plot how your score on the test set improves over time. My best score was about 85% correct!\n",
    "(4) Write a short summary of what you have done (and why) to accomplish steps (1), (2) and (3).\n",
    "(5) Make sure to comment your code!"
   ]
  },
  {
   "cell_type": "code",
   "execution_count": 51,
   "metadata": {
    "collapsed": true
   },
   "outputs": [],
   "source": [
    "#The prediction function \n",
    "def prediction_function(x,theta):\n",
    "    z = dot(theta.T, x)\n",
    "    x_predict = 1/(1+exp(-z))\n",
    "    return x_predict"
   ]
  },
  {
   "cell_type": "code",
   "execution_count": null,
   "metadata": {
    "collapsed": true
   },
   "outputs": [],
   "source": [
    "#The cost function J \n",
    "def cost_function(x_predict,y): \n",
    "    cost = cost = y * log(x_predict) + (1 - y) * log(1 - x_predict)\n",
    "    return - sum(cost) / size(x_predict)"
   ]
  },
  {
   "cell_type": "code",
   "execution_count": 41,
   "metadata": {
    "collapsed": true
   },
   "outputs": [],
   "source": [
    "#The gradient descent step \n",
    "def compute_gradient(x_predict, y, x):\n",
    "    dtheta = outer((x_predict-y),x)\n",
    "    return dtheta"
   ]
  },
  {
   "cell_type": "code",
   "execution_count": 93,
   "metadata": {},
   "outputs": [
    {
     "name": "stdout",
     "output_type": "stream",
     "text": [
      "93.93939393939394\n"
     ]
    },
    {
     "data": {
      "text/plain": [
       "<function matplotlib.pyplot.show>"
      ]
     },
     "execution_count": 93,
     "metadata": {},
     "output_type": "execute_result"
    },
    {
     "data": {
      "image/png": "[encoded data removed]",
      "text/plain": [
       "<matplotlib.figure.Figure at 0x116be9860>"
      ]
     },
     "metadata": {},
     "output_type": "display_data"
    }
   ],
   "source": [
    "alpha = 0.001 #best alpha for the highest accuracy \n",
    "iterations = 25 \n",
    "theta = np.zeros((64,10)) #a theta(64,1) is created  for every class, and there are ten classes (number 0-9)\n",
    "\n",
    "\n",
    "#The target datasets \n",
    "x = np.reshape(digits.images[:1500],(1500,64))\n",
    "x_test = np.reshape(digits.images[1500:],(297,64))\n",
    "\n",
    "\n",
    "target = digits.target[:1500] #these are the samples for the training\n",
    "target_test = digits.target[1500:] # these are the samples for the test\n",
    "\n",
    "accuracies = []\n",
    "\n",
    "for i in range(iterations): #applies gradient descent to find the optimal values for theta\n",
    "    cost = 0\n",
    "    for j in range(x.shape[0]):\n",
    "        x_predict = prediction_function(x[j,:].T,theta) #computes the x_predict for every sample\n",
    "        y = np.zeros(10) #creates a vector with 10 zeros, representing the different classes \n",
    "        y[target[j]] = 1 #sets the right class to 1\n",
    "            \n",
    "        cost = cost_function(x_predict,y)\n",
    "        dtheta = compute_gradient(x_predict,y, x[j, :])\n",
    "        theta = np.add(theta, np.multiply(-(alpha/(x.shape[0])),dtheta.T))\n",
    "   \n",
    "        #finally, the values for theta are found, for which the cost function is the smallest. \n",
    "    \n",
    "    #testing part \n",
    "    score = 0\n",
    "    for k in range(x_test.shape[0]): \n",
    "        x_pred_test = prediction_function(x[k,:], theta)\n",
    "        if argmax(x_pred_test) == target[k]: #here we check if the highest prediction is equal to the target, so the value which is was supposed to be. \n",
    "            score = score + 1  #if the highest prediction and the target are the same, the score (which stands for the number of correct tests) is updated by 1.\n",
    "    accuracy = (score / x_test.shape[0]) *100 # here the accuracy percentage is calculated by dividing the score by the number of tests \n",
    "    accuracies.append(accuracy) #for every iteration, the accuracy is stored in a list\n",
    "    \n",
    "print(max(accuracies)) #after all the iterations, the highest accuracy is printed. \n",
    "            \n",
    "plt.plot(range(iterations), accuracies) #plots the graph of the iterations vs. the accuracies\n",
    "plt.show"
   ]
  },
  {
   "cell_type": "markdown",
   "metadata": {
    "collapsed": true
   },
   "source": [
    "Summary\n",
    "\n",
    "This is a logistic regression model for the classification of handwritten digits. The model is trained on 1500 images that consist of 64 pixels (8x8), which are each represented in a (1,64) array. Theta is constructed as a 64X10 matrix, consisting of zeros. After the iterations, all the numbers are given a theta value. \n",
    "\n",
    "To see how many tests resulted in the correct number, I compared the maximum probabilty to the target for every test sample. If the values where equal, the score was updated by 1. I calculated the accuracy percentage by dividing the total score by the number of tests done. \n",
    "\n",
    "I found that the best alpha was 0.001, after I compared it to the alphas 0.1, 0.01 and 0.0001, as it gave the highest accuracy.  \n",
    "\n",
    "alpha 0.001 and 25 iterations = 93.93939393939394 accuracy "
   ]
  }
 ],
 "metadata": {
  "anaconda-cloud": {},
  "celltoolbar": "Raw Cell Format",
  "kernelspec": {
   "display_name": "Python 3",
   "language": "python",
   "name": "python3"
  },
  "language_info": {
   "codemirror_mode": {
    "name": "ipython",
    "version": 3
   },
   "file_extension": ".py",
   "mimetype": "text/x-python",
   "name": "python",
   "nbconvert_exporter": "python",
   "pygments_lexer": "ipython3",
   "version": "3.6.1"
  }
 },
 "nbformat": 4,
 "nbformat_minor": 1
}
